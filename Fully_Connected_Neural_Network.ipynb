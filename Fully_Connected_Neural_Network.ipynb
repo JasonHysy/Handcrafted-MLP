{
  "cells": [
    {
      "cell_type": "markdown",
      "metadata": {
        "id": "xsj9C1_oqqs3"
      },
      "source": [
        "# Mini Project 5 - Neural Network\n"
      ]
    },
    {
      "cell_type": "markdown",
      "metadata": {
        "id": "aHkMjGTbqqs9"
      },
      "source": [
        "## Import libraries\n",
        "\n",
        "We will be using the lower resolution MINST data set"
      ]
    },
    {
      "cell_type": "code",
      "execution_count": 1,
      "metadata": {
        "id": "aSJVDLW5qqs-"
      },
      "outputs": [],
      "source": [
        "from sklearn.datasets import load_digits # The MNIST data set is in scikit learn data set\n",
        "from sklearn.preprocessing import StandardScaler  # It is important in neural networks to scale the date\n",
        "from sklearn.model_selection import train_test_split  # The standard - train/test to prevent overfitting and choose hyperparameters\n",
        "from sklearn.metrics import accuracy_score # \n",
        "import numpy as np\n",
        "import numpy.random as r # We will randomly initialize our weights\n",
        "import matplotlib.pyplot as plt \n",
        "import math"
      ]
    },
    {
      "cell_type": "markdown",
      "metadata": {
        "id": "Us4o4uK2qqtA"
      },
      "source": [
        "## Looking at the data\n",
        "\n",
        "After we load the data, we print the shape of the data and a pixelated digit.\n",
        "\n",
        "We also show what the features of one example looks like.\n",
        "\n",
        "The neural net will learn to estimate which digit these pixels represent."
      ]
    },
    {
      "cell_type": "code",
      "execution_count": 2,
      "metadata": {
        "colab": {
          "base_uri": "https://localhost:8080/",
          "height": 422
        },
        "id": "X-jfvJq0qqtB",
        "outputId": "153ee82f-ebb2-4b6e-ffbc-a7494db3408e"
      },
      "outputs": [
        {
          "name": "stdout",
          "output_type": "stream",
          "text": [
            "The shape of the digits dataset:\n",
            "(1797, 64)\n"
          ]
        },
        {
          "data": {
            "text/plain": [
              "<Figure size 432x288 with 0 Axes>"
            ]
          },
          "metadata": {},
          "output_type": "display_data"
        },
        {
          "data": {
            "image/png": "[encoded data removed]",
            "text/plain": [
              "<Figure size 288x288 with 1 Axes>"
            ]
          },
          "metadata": {
            "needs_background": "light"
          },
          "output_type": "display_data"
        },
        {
          "name": "stdout",
          "output_type": "stream",
          "text": [
            "[0]\n",
            "[ 0.  0.  5. 13.  9.  1.  0.  0.  0.  0. 13. 15. 10. 15.  5.  0.  0.  3.\n",
            " 15.  2.  0. 11.  8.  0.  0.  4. 12.  0.  0.  8.  8.  0.  0.  5.  8.  0.\n",
            "  0.  9.  8.  0.  0.  4. 11.  0.  1. 12.  7.  0.  0.  2. 14.  5. 10. 12.\n",
            "  0.  0.  0.  0.  6. 13. 10.  0.  0.  0.]\n"
          ]
        }
      ],
      "source": [
        "# load all the digits (img)\n",
        "digits = load_digits()\n",
        "# load the data from the digit (img)\n",
        "X = digits.data\n",
        "y = digits.target\n",
        "print(\"The shape of the digits dataset:\") \n",
        "print(X.shape)\n",
        "\n",
        "# plot the digits\n",
        "# using .gray()\n",
        "plt.gray()\n",
        "# and .matshow() with argument digit.images[xx]\n",
        "plt.matshow(digits.images[0])\n",
        "# plt.show()\n",
        "plt.show()\n",
        "# get the gt for this digit img\n",
        "print(y[0:1])\n",
        "print(X[0,:])"
      ]
    },
    {
      "cell_type": "markdown",
      "metadata": {
        "id": "As9t9z0iqqtE"
      },
      "source": [
        "## 1) Scale the dataset\n",
        "The training features range from 0 to 15.  To help the algorithm converge, we will scale the data to have a mean of 0 and unit variance"
      ]
    },
    {
      "cell_type": "code",
      "execution_count": 3,
      "metadata": {
        "colab": {
          "base_uri": "https://localhost:8080/"
        },
        "id": "gBPVoWxFqqtE",
        "outputId": "9e395ea9-d331-4282-b362-de3cece73c12"
      },
      "outputs": [
        {
          "name": "stdout",
          "output_type": "stream",
          "text": [
            "[ 0.         -0.33501649 -0.04308102  0.27407152 -0.66447751 -0.84412939\n",
            " -0.40972392 -0.12502292 -0.05907756 -0.62400926  0.4829745   0.75962245\n",
            " -0.05842586  1.12772113  0.87958306 -0.13043338 -0.04462507  0.11144272\n",
            "  0.89588044 -0.86066632 -1.14964846  0.51547187  1.90596347 -0.11422184\n",
            " -0.03337973  0.48648928  0.46988512 -1.49990136 -1.61406277  0.07639777\n",
            "  1.54181413 -0.04723238  0.          0.76465553  0.05263019 -1.44763006\n",
            " -1.73666443  0.04361588  1.43955804  0.         -0.06134367  0.8105536\n",
            "  0.63011714 -1.12245711 -1.06623158  0.66096475  0.81845076 -0.08874162\n",
            " -0.03543326  0.74211893  1.15065212 -0.86867056  0.11012973  0.53761116\n",
            " -0.75743581 -0.20978513 -0.02359646 -0.29908135  0.08671869  0.20829258\n",
            " -0.36677122 -1.14664746 -0.5056698  -0.19600752]\n",
            "(1797, 64)\n"
          ]
        }
      ],
      "source": [
        "# use the stander lib to scale the data\n",
        "# init the scaler \n",
        "scaler = StandardScaler()\n",
        "# fit the data to the scaler \n",
        "scaler.fit(X)\n",
        "X = scaler.transform(X)\n",
        "\n",
        "# Looking the new features after scaling\n",
        "print(X[0,:])\n",
        "print(X.shape)"
      ]
    },
    {
      "cell_type": "markdown",
      "metadata": {
        "id": "24ir-Ai0qqtF"
      },
      "source": [
        "## 2) Creating training and test datasets\n",
        "We split the data into training and test data sets. We will train the neural network with the training dataset, and evaluate our neural network with the test dataset "
      ]
    },
    {
      "cell_type": "code",
      "execution_count": 4,
      "metadata": {
        "colab": {
          "base_uri": "https://localhost:8080/"
        },
        "id": "BseozeLPqqtG",
        "outputId": "45d1a361-9927-49e8-850f-590f7cf9a472"
      },
      "outputs": [
        {
          "name": "stdout",
          "output_type": "stream",
          "text": [
            "(1078,) (719,)\n"
          ]
        }
      ],
      "source": [
        "#Split the data into training and test set.  60% training and %40 test\n",
        "X_train, X_test, y_train, y_test = train_test_split(X, y, test_size = 0.4, train_size = 0.6)\n",
        "print(y_train.shape, y_test.shape)"
      ]
    },
    {
      "cell_type": "markdown",
      "metadata": {
        "id": "D4Et3J6GqqtH"
      },
      "source": [
        "## 3) Setting up the output layer"
      ]
    },
    {
      "cell_type": "markdown",
      "metadata": {
        "id": "kU-Ja0WWqqtI"
      },
      "source": [
        "### One hot encoding"
      ]
    },
    {
      "cell_type": "code",
      "execution_count": 5,
      "metadata": {
        "colab": {
          "base_uri": "https://localhost:8080/"
        },
        "id": "Bi4NJPIjqqtJ",
        "outputId": "e0f3a59f-8757-4eb1-a1ba-ff17fdda0afb"
      },
      "outputs": [
        {
          "name": "stdout",
          "output_type": "stream",
          "text": [
            "[[1. 0. 0. ... 0. 0. 0.]\n",
            " [0. 1. 0. ... 0. 0. 0.]\n",
            " [0. 0. 1. ... 0. 0. 0.]\n",
            " ...\n",
            " [0. 0. 0. ... 0. 1. 0.]\n",
            " [0. 0. 0. ... 0. 0. 1.]\n",
            " [0. 0. 0. ... 0. 1. 0.]]\n"
          ]
        }
      ],
      "source": [
        "def convert_y_to_vect(y):\n",
        "#     Our target is an integer in the range [0,..,9], so we will have 10 output neuron's in our network.  \n",
        "\n",
        "#     If  y=0 we want the output neurons to have the values (1,0,0,0,0,0,0,0,0,0)\n",
        "#     If  y=1 we want the output neurons to have the values (0,1,0,0,0,0,0,0,0,0)\n",
        "#     etc\n",
        "\n",
        "#     Thus we need to change our target so it is the same as our hoped for output of the neural network. \n",
        "\n",
        "#     If y=0$we change it into the vector (1,0,0,0,0,0,0,0,0,0)\n",
        "#     If y=1 we change it into the vector (0,1,0,0,0,0,0,0,0,0)\n",
        "#     etc\n",
        "\n",
        "#     The code to covert the target vector. \n",
        "    num_samples = y.shape[0]\n",
        "    result = np.zeros((num_samples, 10))\n",
        "    for i in range(num_samples):\n",
        "      result[i][y[i]] = 1\n",
        "    return result\n",
        "    \n",
        "print(convert_y_to_vect(y))"
      ]
    },
    {
      "cell_type": "markdown",
      "metadata": {
        "id": "99Y2ycRfqqtK"
      },
      "source": [
        "Converting the training and test targets to vectors "
      ]
    },
    {
      "cell_type": "code",
      "execution_count": 6,
      "metadata": {
        "id": "JquDEEXlqqtK"
      },
      "outputs": [],
      "source": [
        "# convert digits to vectors using the func above\n",
        "\n",
        "# apply this to both train and test splits\n",
        "y_v_train = convert_y_to_vect(y_train)\n",
        "y_v_test = convert_y_to_vect(y_test)"
      ]
    },
    {
      "cell_type": "markdown",
      "metadata": {
        "id": "hr66AiYaqqtL"
      },
      "source": [
        "A quick check to see that our code performs as we expect "
      ]
    },
    {
      "cell_type": "code",
      "execution_count": 7,
      "metadata": {
        "colab": {
          "base_uri": "https://localhost:8080/"
        },
        "id": "jnpZHcv5qqtM",
        "outputId": "03513176-14cd-4ab3-8c4c-fc9c96848169"
      },
      "outputs": [
        {
          "name": "stdout",
          "output_type": "stream",
          "text": [
            "[5 6 3 7]\n",
            "[[0. 0. 0. 0. 0. 1. 0. 0. 0. 0.]\n",
            " [0. 0. 0. 0. 0. 0. 1. 0. 0. 0.]\n",
            " [0. 0. 0. 1. 0. 0. 0. 0. 0. 0.]\n",
            " [0. 0. 0. 0. 0. 0. 0. 1. 0. 0.]]\n"
          ]
        }
      ],
      "source": [
        "print(y_train[0:4])\n",
        "print(y_v_train[0:4])"
      ]
    },
    {
      "cell_type": "markdown",
      "metadata": {
        "id": "fFpLu-UXqqtN"
      },
      "source": [
        "## 4) Creating the neural network"
      ]
    },
    {
      "cell_type": "markdown",
      "metadata": {
        "id": "hJRE7kpqqqtN"
      },
      "source": [
        "### The activation function and its derivative"
      ]
    },
    {
      "cell_type": "code",
      "execution_count": 8,
      "metadata": {
        "id": "qBgbzEJXqqtO"
      },
      "outputs": [],
      "source": [
        "# We will use the sigmoid activation function:  f(z)={1}/{1+e^{-z}}\n",
        "def f(z):\n",
        "    return 1/(1+math.exp(-z))\n",
        "\n",
        "# The deriviative of the sigmoid function is: $f'(z) = f(z)(1-f(z))$ \n",
        "def f_deriv(z):\n",
        "    return f(z)*(1-f(z))"
      ]
    },
    {
      "cell_type": "markdown",
      "metadata": {
        "id": "xofPML4VqqtO"
      },
      "source": [
        "### Creating and initialing W and b\n",
        "\n",
        "\n"
      ]
    },
    {
      "cell_type": "code",
      "execution_count": 9,
      "metadata": {
        "id": "x2-R36HIqqtP"
      },
      "outputs": [],
      "source": [
        "from random import random\n",
        "def setup_and_init_weights(nn_structure):\n",
        "    # The weights in W are different so that during back propagation the nodes on a level will have different gradients and thus have different update values.\n",
        "    #creating a dictionary for weights i.e. a set of key: value pairs\n",
        "    w_dict = {}\n",
        "    #creating a dictionary for bias i.e. a set of key: value pairs\n",
        "    b_dict = {}\n",
        "    for j in range(1, len(nn_structure)):\n",
        "      w_dict[j] = np.array([[random() for i in range(nn_structure[j-1])] for i in range(nn_structure[j])])\n",
        "      b_dict[j] = np.array([random() for i in range(nn_structure[j])]).reshape(nn_structure[j],1)\n",
        "\n",
        "    # Return weight and b\n",
        "    return w_dict, b_dict"
      ]
    },
    {
      "cell_type": "markdown",
      "metadata": {
        "id": "MKYk39qzqqtQ"
      },
      "source": [
        "### Initializing $\\triangledown W$ and $\\triangledown b$\n"
      ]
    },
    {
      "cell_type": "code",
      "execution_count": 10,
      "metadata": {
        "id": "FHmeXtWEqqtR"
      },
      "outputs": [],
      "source": [
        "def init_tri_values(nn_structure):\n",
        "    # Creating dlt_W and dlt_b to have the same size as W and b,and init the dlt_W, and dlt_b to 0\n",
        "    # use for loop to init the dlt W and dlt b, using np.zeros\n",
        "    dlt_w = {}\n",
        "    dlt_b = {}\n",
        "    for j in range(1, len(nn_structure)):\n",
        "      dlt_w[j] = np.zeros((nn_structure[j], nn_structure[j-1]))\n",
        "      dlt_b[j] = np.zeros((nn_structure[j],1))\n",
        "    return dlt_w, dlt_b"
      ]
    },
    {
      "cell_type": "markdown",
      "metadata": {
        "id": "LFQ77_ZmqqtS"
      },
      "source": [
        "## Feed forward\n",
        "Perform a forward pass throught the network.  The function returns the values of $a$ and $z$"
      ]
    },
    {
      "cell_type": "code",
      "execution_count": 11,
      "metadata": {
        "id": "LSiHN-LwqqtT"
      },
      "outputs": [],
      "source": [
        "from re import A\n",
        "def feed_forward(x, W, b):\n",
        "    # create a dictionary for holding the a values for all levels\n",
        "    a = {}\n",
        "    a = {1: np.array(x)}\n",
        "    # create a dictionary for holding the z values for all the layers\n",
        "    z = {}\n",
        "    for l in range(2,len(W) + 2):\n",
        "      a[l] = np.zeros(W[l-1].shape[0])\n",
        "      z[l] = np.zeros(W[l-1].shape[0])\n",
        "    # for each layer\n",
        "    for l in range(1, len(W)+1):\n",
        "      # z^(l+1) = W^(l)*a^(l) + b^(l)\n",
        "      z[l+1] =  W[l] @ a[l][np.newaxis].T + b[l]\n",
        "      # a^(l+1) = f(z^(l+1))\n",
        "      a[l+1] = np.array([f(i) for i in z[l+1]])\n",
        "    return a, z"
      ]
    },
    {
      "cell_type": "markdown",
      "metadata": {
        "id": "JGDU7um4qqtU"
      },
      "source": [
        "## Compute $\\delta$\n",
        "compute $\\delta^{(s_l)}$ in a function called \"calculate_out_layer_delta\",  and  computes $\\delta^{(\\ell)}$ for the hidden layers in the function called \"calculate_hidden_delta\".  \n",
        "\n"
      ]
    },
    {
      "cell_type": "code",
      "execution_count": 12,
      "metadata": {
        "id": "zggnstRvqqtU"
      },
      "outputs": [],
      "source": [
        "def calculate_out_layer_delta(y, a_out, z_out):\n",
        "    #create a temporary array to store the values of f'(z^l),\n",
        "    #since our function f_deriv(z^l) isn't designed to take in arrays as input\n",
        "    temp = np.array([f_deriv(i) for i in z_out])\n",
        "\n",
        "    # delta^(nl) = -(y_i - a_i^(nl)) * f'(z_i^(nl))\n",
        "    delta = -(y - a_out) * temp\n",
        "    return delta\n",
        "\n",
        "\n",
        "def calculate_hidden_delta(delta_plus_1, w_l, z_l):\n",
        "    #create a temporary array to store the values of f(z^l),\n",
        "    #since our function f(z^l) isn't designed to take in arrays as input\n",
        "    temp = np.array([f_deriv(i) for i in z_l])\n",
        "\n",
        "    # delta^(l) = (transpose(W^(l)) * delta^(l+1)) * f'(z^(l))\n",
        "    delta = w_l.T @ delta_plus_1[np.newaxis].T * temp[np.newaxis].T\n",
        "    return delta"
      ]
    },
    {
      "cell_type": "markdown",
      "metadata": {
        "id": "R5v9HsgBqqtV"
      },
      "source": [
        "## The Back Propagation Algorithm\n"
      ]
    },
    {
      "cell_type": "code",
      "execution_count": 36,
      "metadata": {
        "id": "uuOggxtaqqtW"
      },
      "outputs": [],
      "source": [
        "def train_nn(nn_structure, X, y, iter_num=3000, alpha=0.01):\n",
        "    # init W and b\n",
        "    W, b = setup_and_init_weights(nn_structure)\n",
        "    # init counter to 0\n",
        "    counter = 0\n",
        "    # store the length of data\n",
        "    N = y.shape[0]\n",
        "    # init a list to store the all costs\n",
        "    costs = []\n",
        "    print('Starting gradient descent for {} iterations'.format(iter_num))\n",
        "    # while the counter is less than the max iterations:\n",
        "    while(counter < iter_num):\n",
        "      # print the iteration number for every 100 iter\n",
        "      if(counter % 100 == 0):\n",
        "        print('Iteration', counter, 'of', iter_num)\n",
        "      # init delt_W and delt_b\n",
        "      delt_W, delt_b = init_tri_values(nn_structure)\n",
        "      # init the cost to 0\n",
        "      cost = float(0)\n",
        "      # for each data:\n",
        "      for i in range(N):\n",
        "          # perform the feed forward pass and return the stored a and z values, to be used in the\n",
        "          # gradient descent step\n",
        "          a,z = feed_forward(X[i], W, b)\n",
        "\n",
        "          #init the dictionary to store the delta for each layer\n",
        "          delts = {}\n",
        "\n",
        "          # loop from nl-1 to 1 backpropagating the errors\n",
        "          for l in range(len(nn_structure), 0, -1):\n",
        "\n",
        "              if l == len(nn_structure):\n",
        "                #calculate delta out\n",
        "                delt_out = calculate_out_layer_delta(y[i], a[l], z[l])\n",
        "                #calculate the cost\n",
        "                cost += sum(np.argmax(a[l]) - np.where(y[i] == 1))**2\n",
        "                \n",
        "              # first layer\n",
        "              elif l == len(nn_structure) - 1: \n",
        "                # delt_W^(l) = delt_W^(l) + delta^(l+1) * transpose(a^(l))\n",
        "                delt_W[l] = delt_W[l] + delt_out[np.newaxis].T * a[l][np.newaxis]\n",
        "                # delt_b^(l) = delt_b^(l) + delta^(l+1)\n",
        "                delt_b[l] = delt_b[l] + delt_out[np.newaxis].T\n",
        "\n",
        "                #add delt_out to the dictionary of deltas\n",
        "                delts[l] = delt_out\n",
        "\n",
        "              #all hidden layers\n",
        "              else:\n",
        "                #calculate delta hidden\n",
        "                delt_hid = calculate_hidden_delta(delts[l+1], W[l + 1], z[l + 1])\n",
        "                delts[l] = delt_hid.flatten()\n",
        "                # delt_W^(l) = delt_W^(l) + delta^(l+1) * transpose(a^(l))\n",
        "                delt_W[l] = delt_W[l] + delt_hid * a[l][np.newaxis]\n",
        "                # delt_b^(l) = delt_b^(l) + delta^(l+1)\n",
        "                delt_b[l] = delt_b[l] + delt_hid\n",
        "\n",
        "                  # triW^(l) = triW^(l) + delta^(l+1) * transpose(a^(l))\n",
        "                    # hint: you can use np.newaxis to increase the number of dimensions\n",
        "                  # trib^(l) = trib^(l) + delta^(l+1)\n",
        "                \n",
        "      \n",
        "      # perform the gradient descent step for the weights in each layer\n",
        "      for l in range(len(nn_structure)-1, 0, -1):\n",
        "        W[l] = W[l] - alpha * delt_W[l]\n",
        "        b[l] = b[l] - alpha * delt_b[l]\n",
        "\n",
        "      # complete the average cost (mean squared error) calculation\n",
        "      cost /= N\n",
        "      # append the cost to the cost list\n",
        "      costs.append(cost)\n",
        "      # increase the counter \n",
        "      counter += 1\n",
        "\n",
        "    return W, b, costs"
      ]
    },
    {
      "cell_type": "code",
      "execution_count": 37,
      "metadata": {
        "id": "Kgv9J18sqqtX"
      },
      "outputs": [],
      "source": [
        "def predict_y(W, b, X, n_layers):\n",
        "    # store the length of data\n",
        "    N = X.shape[0]\n",
        "    # init for prediction array\n",
        "    pred = np.empty(N)\n",
        "    # for each data:\n",
        "    for i in range(N):\n",
        "        # feed forward\n",
        "        a, z = feed_forward(X[i], W, b)\n",
        "        # predict based on the output of the last layer\n",
        "        pred[i] = np.argmax(a[n_layers])\n",
        "    return pred"
      ]
    },
    {
      "cell_type": "markdown",
      "metadata": {
        "id": "svl0vlwqqqtZ"
      },
      "source": [
        "## Running the neural network\n",
        "\n",
        "Our code assumes the size of each layer in our network is held in a list.  The input layer will have 64 neurons (one for each pixel in our 8 by 8 pixelated digit).  Our hidden layer has 30 neurons (you can change this value).  The output layer has 10 neurons.\n",
        "\n",
        "Next we create the python list to hold the number of neurons for each level and then run the neural network code with our training data.\n",
        "\n",
        "This code will take some time..."
      ]
    },
    {
      "cell_type": "code",
      "execution_count": 15,
      "metadata": {
        "colab": {
          "base_uri": "https://localhost:8080/"
        },
        "id": "UnwBdiljqqtZ",
        "outputId": "d739430f-12a6-47e1-d154-bd548bd5f09f"
      },
      "outputs": [
        {
          "name": "stdout",
          "output_type": "stream",
          "text": [
            "Starting gradient descent for 3000 iterations\n",
            "Iteration 0 of 3000\n",
            "Iteration 100 of 3000\n",
            "Iteration 200 of 3000\n",
            "Iteration 300 of 3000\n",
            "Iteration 400 of 3000\n",
            "Iteration 500 of 3000\n",
            "Iteration 600 of 3000\n",
            "Iteration 700 of 3000\n",
            "Iteration 800 of 3000\n",
            "Iteration 900 of 3000\n",
            "Iteration 1000 of 3000\n",
            "Iteration 1100 of 3000\n",
            "Iteration 1200 of 3000\n",
            "Iteration 1300 of 3000\n",
            "Iteration 1400 of 3000\n",
            "Iteration 1500 of 3000\n",
            "Iteration 1600 of 3000\n",
            "Iteration 1700 of 3000\n",
            "Iteration 1800 of 3000\n",
            "Iteration 1900 of 3000\n",
            "Iteration 2000 of 3000\n",
            "Iteration 2100 of 3000\n",
            "Iteration 2200 of 3000\n",
            "Iteration 2300 of 3000\n",
            "Iteration 2400 of 3000\n",
            "Iteration 2500 of 3000\n",
            "Iteration 2600 of 3000\n",
            "Iteration 2700 of 3000\n",
            "Iteration 2800 of 3000\n",
            "Iteration 2900 of 3000\n"
          ]
        }
      ],
      "source": [
        "nn_structure = [64, 30, 10]\n",
        "    \n",
        "# train the NN with the nn_structure and 3000 iterations\n",
        "W, b, costs = train_nn(nn_structure, X_train, y_v_train)"
      ]
    },
    {
      "cell_type": "markdown",
      "metadata": {
        "id": "1CY9naV4qqtb"
      },
      "source": [
        "### Plotting the learning curve\n"
      ]
    },
    {
      "cell_type": "code",
      "execution_count": 16,
      "metadata": {
        "colab": {
          "base_uri": "https://localhost:8080/",
          "height": 264
        },
        "id": "IMYnVz1Uqqtd",
        "outputId": "afb35f80-ff24-4f07-971e-edbef9a2617e"
      },
      "outputs": [
        {
          "data": {
            "image/png": "[encoded data removed]",
            "text/plain": [
              "<Figure size 432x288 with 1 Axes>"
            ]
          },
          "metadata": {
            "needs_background": "light"
          },
          "output_type": "display_data"
        }
      ],
      "source": [
        "# plot the avg_cost_func \n",
        "\n",
        "# x label: \"Iteration number\"\n",
        "# y label: \"Average J\"\n",
        "plt.plot([i for i in range(3000)], costs)\n",
        "plt.show()\n"
      ]
    },
    {
      "cell_type": "markdown",
      "metadata": {
        "id": "szjJ6e9tqqtf"
      },
      "source": [
        "## 5) Assessing accuracy\n",
        "Next we determine what percentage the neural network correctly predicted the handwritten digit correctly on the test set"
      ]
    },
    {
      "cell_type": "code",
      "execution_count": 17,
      "metadata": {
        "colab": {
          "base_uri": "https://localhost:8080/"
        },
        "id": "gJosRGAzqqth",
        "outputId": "205daacb-6fd2-407b-a13b-cbfd493c80c0"
      },
      "outputs": [
        {
          "name": "stdout",
          "output_type": "stream",
          "text": [
            "Prediction accuracy is 94.71488178025035%\n"
          ]
        }
      ],
      "source": [
        "# get the prediction accuracy and print\n",
        "y_pred = predict_y(W, b, X_test, 3)\n",
        "print('Prediction accuracy is {}%'.format(accuracy_score(y_test, y_pred) * 100))"
      ]
    },
    {
      "cell_type": "markdown",
      "metadata": {
        "id": "2atyxkKMNDur"
      },
      "source": [
        "As we can see, the neural network with structure [64, 30, 10] yields a pretty decent accuracy. Also, according to the graph, the cost curve converges roughly after 500 iterations."
      ]
    },
    {
      "cell_type": "markdown",
      "metadata": {
        "id": "zgOSoIVQFYrv"
      },
      "source": [
        "## Try our model with different number of neurons in the hidden layer"
      ]
    },
    {
      "cell_type": "code",
      "execution_count": null,
      "metadata": {
        "colab": {
          "base_uri": "https://localhost:8080/",
          "height": 809
        },
        "id": "RPUUZbMYq0HD",
        "outputId": "d0113495-b775-4dc5-cac8-84f7653c8cf9"
      },
      "outputs": [
        {
          "name": "stdout",
          "output_type": "stream",
          "text": [
            "Starting gradient descent for 3000 iterations\n",
            "Iteration 0 of 3000\n",
            "Iteration 100 of 3000\n",
            "Iteration 200 of 3000\n",
            "Iteration 300 of 3000\n",
            "Iteration 400 of 3000\n",
            "Iteration 500 of 3000\n",
            "Iteration 600 of 3000\n",
            "Iteration 700 of 3000\n",
            "Iteration 800 of 3000\n",
            "Iteration 900 of 3000\n",
            "Iteration 1000 of 3000\n",
            "Iteration 1100 of 3000\n",
            "Iteration 1200 of 3000\n",
            "Iteration 1300 of 3000\n",
            "Iteration 1400 of 3000\n",
            "Iteration 1500 of 3000\n",
            "Iteration 1600 of 3000\n",
            "Iteration 1700 of 3000\n",
            "Iteration 1800 of 3000\n",
            "Iteration 1900 of 3000\n",
            "Iteration 2000 of 3000\n",
            "Iteration 2100 of 3000\n",
            "Iteration 2200 of 3000\n",
            "Iteration 2300 of 3000\n",
            "Iteration 2400 of 3000\n",
            "Iteration 2500 of 3000\n",
            "Iteration 2600 of 3000\n",
            "Iteration 2700 of 3000\n",
            "Iteration 2800 of 3000\n",
            "Iteration 2900 of 3000\n"
          ]
        },
        {
          "data": {
            "image/png": "[encoded data removed]",
            "text/plain": [
              "<Figure size 432x288 with 1 Axes>"
            ]
          },
          "metadata": {
            "needs_background": "light"
          },
          "output_type": "display_data"
        },
        {
          "name": "stdout",
          "output_type": "stream",
          "text": [
            "Prediction accuracy is 95.13212795549374%\n"
          ]
        }
      ],
      "source": [
        "nn_structure = [64, 40, 10]\n",
        "\n",
        "# train the NN with the nn_structure and 3000 iterations\n",
        "W, b, costs = train_nn(nn_structure, X_train, y_v_train)\n",
        "\n",
        "# plot the avg_cost_func \n",
        "\n",
        "# x label: \"Iteration number\"\n",
        "# y label: \"Average J\"\n",
        "plt.plot([i for i in range(3000)], costs)\n",
        "plt.show()\n",
        "\n",
        "# get the prediction accuracy and print\n",
        "y_pred = predict_y(W, b, X_test, 3)\n",
        "print('Prediction accuracy is {}%'.format(accuracy_score(y_test, y_pred) * 100))"
      ]
    },
    {
      "cell_type": "markdown",
      "metadata": {
        "id": "74OunettNaw4"
      },
      "source": [
        "As we can see, changing the number of neurons in our one hidden layer does not cause a significant change in either accurracy or performance. The cost curve fluctuates but also converges roughly after 500 iterations"
      ]
    },
    {
      "cell_type": "markdown",
      "metadata": {
        "id": "LommQ1T7WjaL"
      },
      "source": [
        "## Try our model with 4 layers instead of 3"
      ]
    },
    {
      "cell_type": "code",
      "execution_count": null,
      "metadata": {
        "colab": {
          "base_uri": "https://localhost:8080/",
          "height": 809
        },
        "id": "BVjHiksfPEpz",
        "outputId": "24504d7c-a846-4626-c0ff-1377c32642a1"
      },
      "outputs": [
        {
          "name": "stdout",
          "output_type": "stream",
          "text": [
            "Starting gradient descent for 3000 iterations\n",
            "Iteration 0 of 3000\n",
            "Iteration 100 of 3000\n",
            "Iteration 200 of 3000\n",
            "Iteration 300 of 3000\n",
            "Iteration 400 of 3000\n",
            "Iteration 500 of 3000\n",
            "Iteration 600 of 3000\n",
            "Iteration 700 of 3000\n",
            "Iteration 800 of 3000\n",
            "Iteration 900 of 3000\n",
            "Iteration 1000 of 3000\n",
            "Iteration 1100 of 3000\n",
            "Iteration 1200 of 3000\n",
            "Iteration 1300 of 3000\n",
            "Iteration 1400 of 3000\n",
            "Iteration 1500 of 3000\n",
            "Iteration 1600 of 3000\n",
            "Iteration 1700 of 3000\n",
            "Iteration 1800 of 3000\n",
            "Iteration 1900 of 3000\n",
            "Iteration 2000 of 3000\n",
            "Iteration 2100 of 3000\n",
            "Iteration 2200 of 3000\n",
            "Iteration 2300 of 3000\n",
            "Iteration 2400 of 3000\n",
            "Iteration 2500 of 3000\n",
            "Iteration 2600 of 3000\n",
            "Iteration 2700 of 3000\n",
            "Iteration 2800 of 3000\n",
            "Iteration 2900 of 3000\n"
          ]
        },
        {
          "data": {
            "image/png": "[encoded data removed]",
            "text/plain": [
              "<Figure size 432x288 with 1 Axes>"
            ]
          },
          "metadata": {
            "needs_background": "light"
          },
          "output_type": "display_data"
        },
        {
          "name": "stdout",
          "output_type": "stream",
          "text": [
            "Prediction accuracy is 9.735744089012517%\n"
          ]
        }
      ],
      "source": [
        "nn_structure = [64, 40, 20, 10]\n",
        "\n",
        "# train the NN with the nn_structure and 3000 iterations\n",
        "W, b, costs = train_nn(nn_structure, X_train, y_v_train)\n",
        "\n",
        "# plot the avg_cost_func \n",
        "\n",
        "# x label: \"Iteration number\"\n",
        "# y label: \"Average J\"\n",
        "plt.plot([i for i in range(3000)], costs)\n",
        "plt.show()\n",
        "\n",
        "# get the prediction accuracy and print\n",
        "y_pred = predict_y(W, b, X_test, 3)\n",
        "print('Prediction accuracy is {}%'.format(accuracy_score(y_test, y_pred) * 100))"
      ]
    },
    {
      "cell_type": "markdown",
      "metadata": {
        "id": "617WAWwcN6ah"
      },
      "source": [
        "As we can see, adding another hidden layer causes huge fluctuations in cost function and its performance drops significantly. The cost function converges at after 2500 iterations and the prediction accuracy is really low."
      ]
    },
    {
      "cell_type": "markdown",
      "metadata": {
        "id": "OIlfIkCqktbu"
      },
      "source": [
        "The f(z) function is designed to only take in single values, which is also the design in my other test examples of different activation functions. However, this error doesn't occur all in my other test examples and therefore I have no idea how to debug it. \n",
        "\n",
        "Therefore, I put in 'return max(0,z.all())' to avoid runtime error, which results in update failure during training.\n"
      ]
    },
    {
      "cell_type": "markdown",
      "metadata": {
        "id": "Cd_Q2s75JQ-o"
      },
      "source": [
        "## Test our function with tanh activation function:\n",
        "$$ f(z) = tanh(z) = \\frac {e^z - e^{-z}}{e^z + e^{-z}}$$\n",
        "$$ f'(z) = 1 - tanh^2z = 1 - f(z)^2$$"
      ]
    },
    {
      "cell_type": "code",
      "execution_count": 43,
      "metadata": {
        "colab": {
          "base_uri": "https://localhost:8080/",
          "height": 855
        },
        "id": "En9cTPv_JWPL",
        "outputId": "2422038c-babe-45f2-f1a3-99b89ec181d9"
      },
      "outputs": [
        {
          "name": "stdout",
          "output_type": "stream",
          "text": [
            "Starting gradient descent for 3000 iterations\n",
            "Iteration 0 of 3000\n",
            "Iteration 100 of 3000\n",
            "Iteration 200 of 3000\n",
            "Iteration 300 of 3000\n",
            "Iteration 400 of 3000\n",
            "Iteration 500 of 3000\n",
            "Iteration 600 of 3000\n",
            "Iteration 700 of 3000\n",
            "Iteration 800 of 3000\n",
            "Iteration 900 of 3000\n",
            "Iteration 1000 of 3000\n",
            "Iteration 1100 of 3000\n",
            "Iteration 1200 of 3000\n",
            "Iteration 1300 of 3000\n",
            "Iteration 1400 of 3000\n",
            "Iteration 1500 of 3000\n",
            "Iteration 1600 of 3000\n",
            "Iteration 1700 of 3000\n",
            "Iteration 1800 of 3000\n",
            "Iteration 1900 of 3000\n",
            "Iteration 2000 of 3000\n",
            "Iteration 2100 of 3000\n",
            "Iteration 2200 of 3000\n",
            "Iteration 2300 of 3000\n",
            "Iteration 2400 of 3000\n",
            "Iteration 2500 of 3000\n",
            "Iteration 2600 of 3000\n",
            "Iteration 2700 of 3000\n",
            "Iteration 2800 of 3000\n",
            "Iteration 2900 of 3000\n"
          ]
        },
        {
          "data": {
            "image/png": "[encoded data removed]",
            "text/plain": [
              "<Figure size 432x288 with 1 Axes>"
            ]
          },
          "metadata": {
            "needs_background": "light"
          },
          "output_type": "display_data"
        },
        {
          "name": "stdout",
          "output_type": "stream",
          "text": [
            "Prediction accuracy is 91.3769123783032%\n"
          ]
        }
      ],
      "source": [
        "#redefine our activation function to tanh activation function: f(z) = {0 if z < 0, z if z > 0}\n",
        "def f(z):\n",
        "  return (math.exp(z) - math.exp(-z))/(math.exp(z) + math.exp(-z))\n",
        "\n",
        "#f'(z) = 1 - f(z)^2\n",
        "def f_deriv(z):\n",
        "  return 1 - f(z)**2\n",
        "\n",
        "\n",
        "nn_structure = [64, 30, 10]\n",
        "\n",
        "# train the NN with the nn_structure and 3000 iterations\n",
        "W, b, costs = train_nn(nn_structure, X_train, y_v_train, alpha=0.001)\n",
        "\n",
        "# plot the avg_cost_func \n",
        "\n",
        "# x label: \"Iteration number\"\n",
        "# y label: \"Average J\"v\n",
        "plt.plot([i for i in range(3000)], costs)\n",
        "plt.show()\n",
        "\n",
        "# get the prediction accuracy and print\n",
        "y_pred = predict_y(W, b, X_test, 3)\n",
        "print('Prediction accuracy is {}%'.format(accuracy_score(y_test, y_pred) * 100))"
      ]
    },
    {
      "cell_type": "markdown",
      "metadata": {
        "id": "x2kH_CNASGP4"
      },
      "source": [
        "The neural network with tanh activation has more fluctuation compared to sigmoid function, and it takes more iterations to converge. In the end the accuracy of this model isn't the optimal, but not bad either."
      ]
    },
    {
      "cell_type": "markdown",
      "metadata": {
        "id": "6M7sY3GGijFF"
      },
      "source": [
        "### Conclusion:\n",
        "According to the neural network we tested, the three-layer sigmoid activated neural network has the best performance. However, this does not mean that other models are inferior, because here we only present the result with certain parameters. Different models may have different performance in their optimized parameters, which is not fully shown in here."
      ]
    }
  ],
  "metadata": {
    "colab": {
      "collapsed_sections": [],
      "name": "ML_proj6 Neural Network.ipynb",
      "provenance": []
    },
    "kernelspec": {
      "display_name": "Python 3 (ipykernel)",
      "language": "python",
      "name": "python3"
    },
    "language_info": {
      "codemirror_mode": {
        "name": "ipython",
        "version": 3
      },
      "file_extension": ".py",
      "mimetype": "text/x-python",
      "name": "python",
      "nbconvert_exporter": "python",
      "pygments_lexer": "ipython3",
      "version": "3.9.7"
    }
  },
  "nbformat": 4,
  "nbformat_minor": 0
}
